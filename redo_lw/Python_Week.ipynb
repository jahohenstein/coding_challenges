{
 "cells": [
  {
   "cell_type": "markdown",
   "id": "03a7f122",
   "metadata": {},
   "source": [
    "# Day1_Python101"
   ]
  },
  {
   "cell_type": "markdown",
   "id": "ffd633be",
   "metadata": {},
   "source": [
    "## Colourful algorithm\n",
    "A colorful number is a number where the products of all the subsets of the digits are different. eg:\n",
    "\n",
    "263 is a colorful number (2, 6, 3, 2x6, 6x3, 2x6x3) are all different\n",
    "236 is not (2, 3, 6, 2x3, 3x6, 2x3x6) has 6 twice (6 and 2x3)\n",
    "\n",
    "Specs\n",
    "We want you to write a function is_colorful which takes a single number as an argument and returns True if the number is colorful, False otherwise.\n",
    "\n",
    "For this exercise, only consider numbers with up to 3 digits (not more), eg:\n",
    "is_colorful(263) #=> True\n",
    "is_colorful(236) #=> False"
   ]
  },
  {
   "cell_type": "code",
   "execution_count": 4,
   "id": "42732b42",
   "metadata": {},
   "outputs": [
    {
     "data": {
      "text/plain": [
       "('3', '2', '4')"
      ]
     },
     "execution_count": 4,
     "metadata": {},
     "output_type": "execute_result"
    }
   ],
   "source": [
    "number = str(324)\n",
    "\n",
    "comb = set()\n",
    "\n",
    "tuple(str(number))"
   ]
  },
  {
   "cell_type": "code",
   "execution_count": 5,
   "id": "5ed350a6",
   "metadata": {},
   "outputs": [
    {
     "ename": "AttributeError",
     "evalue": "'set' object has no attribute 'append'",
     "output_type": "error",
     "traceback": [
      "\u001b[0;31m---------------------------------------------------------------------------\u001b[0m",
      "\u001b[0;31mAttributeError\u001b[0m                            Traceback (most recent call last)",
      "\u001b[0;32m/tmp/ipykernel_2936/3075833801.py\u001b[0m in \u001b[0;36m<module>\u001b[0;34m\u001b[0m\n\u001b[1;32m      1\u001b[0m \u001b[0;32mfor\u001b[0m \u001b[0mi\u001b[0m \u001b[0;32min\u001b[0m \u001b[0mrange\u001b[0m\u001b[0;34m(\u001b[0m\u001b[0mlen\u001b[0m\u001b[0;34m(\u001b[0m\u001b[0mnumber\u001b[0m\u001b[0;34m)\u001b[0m\u001b[0;34m)\u001b[0m\u001b[0;34m:\u001b[0m\u001b[0;34m\u001b[0m\u001b[0;34m\u001b[0m\u001b[0m\n\u001b[0;32m----> 2\u001b[0;31m     \u001b[0mcomb\u001b[0m\u001b[0;34m.\u001b[0m\u001b[0mappend\u001b[0m\u001b[0;34m(\u001b[0m\u001b[0;34m)\u001b[0m\u001b[0;34m\u001b[0m\u001b[0;34m\u001b[0m\u001b[0m\n\u001b[0m",
      "\u001b[0;31mAttributeError\u001b[0m: 'set' object has no attribute 'append'"
     ]
    }
   ],
   "source": [
    "for i in range(len(number)):\n",
    "    comb.append()"
   ]
  },
  {
   "cell_type": "code",
   "execution_count": 9,
   "id": "f3c48d2c",
   "metadata": {},
   "outputs": [
    {
     "data": {
      "text/plain": [
       "('3', '2', '4', '32', '324', '24')"
      ]
     },
     "execution_count": 9,
     "metadata": {},
     "output_type": "execute_result"
    }
   ],
   "source": [
    "number[0:1], number[1:2], number[2:3], number[0:2], number[0:3], number[1:3]"
   ]
  },
  {
   "cell_type": "code",
   "execution_count": 10,
   "id": "38cd203d",
   "metadata": {},
   "outputs": [],
   "source": [
    "def is_colorful(number):\n",
    "    number_list = [str(number)[i:j] for i in range(len(str(number)))\n",
    "                   for j in range(i+1,len(str(number))+1)]\n",
    "    return(number_list)"
   ]
  },
  {
   "cell_type": "code",
   "execution_count": 11,
   "id": "28aeb165",
   "metadata": {},
   "outputs": [
    {
     "data": {
      "text/plain": [
       "['3', '32', '324', '2', '24', '4']"
      ]
     },
     "execution_count": 11,
     "metadata": {},
     "output_type": "execute_result"
    }
   ],
   "source": [
    "is_colorful(324)"
   ]
  },
  {
   "cell_type": "code",
   "execution_count": null,
   "id": "cc0312a8",
   "metadata": {},
   "outputs": [],
   "source": []
  }
 ],
 "metadata": {
  "kernelspec": {
   "display_name": "Python 3 (ipykernel)",
   "language": "python",
   "name": "python3"
  },
  "language_info": {
   "codemirror_mode": {
    "name": "ipython",
    "version": 3
   },
   "file_extension": ".py",
   "mimetype": "text/x-python",
   "name": "python",
   "nbconvert_exporter": "python",
   "pygments_lexer": "ipython3",
   "version": "3.8.12"
  },
  "toc": {
   "base_numbering": 1,
   "nav_menu": {},
   "number_sections": true,
   "sideBar": true,
   "skip_h1_title": false,
   "title_cell": "Table of Contents",
   "title_sidebar": "Contents",
   "toc_cell": false,
   "toc_position": {},
   "toc_section_display": true,
   "toc_window_display": false
  }
 },
 "nbformat": 4,
 "nbformat_minor": 5
}
